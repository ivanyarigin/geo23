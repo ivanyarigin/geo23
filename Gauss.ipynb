{
 "cells": [
  {
   "cell_type": "code",
   "execution_count": 6,
   "id": "f2f66a8b",
   "metadata": {},
   "outputs": [
    {
     "name": "stdout",
     "output_type": "stream",
     "text": [
      "2\n",
      "1 4\n",
      "2 3\n",
      "3 5\n",
      "3 6\n",
      "[0.4 0.2]\n"
     ]
    }
   ],
   "source": [
    "import numpy as np\n",
    "n = int(input())\n",
    "A = []\n",
    "B = []\n",
    "for k in range(n):\n",
    "    A.append(list(map(float,input().split(' '))))\n",
    "for p in range(n):\n",
    "    B.append(list(map(float,input().split(' '))))\n",
    "\n",
    "def gauss(A,B,n):\n",
    "    A = np.hstack((A,B))\n",
    "    n = len(A)\n",
    "    for i in range(n):\n",
    "        for j in range(i, n):\n",
    "            if A[j][i] != 0:\n",
    "                A[i], A[j] = A[j], A[i]\n",
    "                break\n",
    "        for j in range(i + 1, n):\n",
    "            if A[i][i] != 0:\n",
    "                l = -A[j][i] / A[i][i]\n",
    "                for k in range(len(A[j])):\n",
    "                    A[j][k] += l * A[i][k]\n",
    "    ans = []\n",
    "    for i in range(n - 1, -1, -1):\n",
    "        if A[i][i] == 0:\n",
    "            return None\n",
    "        \n",
    "        l = 1 / A[i][i]\n",
    "\n",
    "        for j in range(len(A[i])):\n",
    "            A[i][j] *= l\n",
    "        for j in range(len(ans)):\n",
    "            for u in range(len(A[i]) - 2 - j, -1, -1): \n",
    "                if u != i:\n",
    "                    A[i][u] *= ans[j]\n",
    "                    break\n",
    "\n",
    "        x = A[i][len(A[i]) - 1]\n",
    "        for j in range(len(A[i]) - 1):\n",
    "            if j != i:\n",
    "                x -= A[i][j]\n",
    "        ans.append(x)\n",
    "    ans = np.array([ans[el] for el in range(len(ans) - 1, -1, -1)])\n",
    "    return(ans)\n",
    "print(gauss(A,B,n))\n"
   ]
  }
 ],
 "metadata": {
  "kernelspec": {
   "display_name": "Python 3 (ipykernel)",
   "language": "python",
   "name": "python3"
  },
  "language_info": {
   "codemirror_mode": {
    "name": "ipython",
    "version": 3
   },
   "file_extension": ".py",
   "mimetype": "text/x-python",
   "name": "python",
   "nbconvert_exporter": "python",
   "pygments_lexer": "ipython3",
   "version": "3.9.13"
  }
 },
 "nbformat": 4,
 "nbformat_minor": 5
}
