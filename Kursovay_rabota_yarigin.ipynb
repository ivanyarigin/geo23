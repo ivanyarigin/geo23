{
 "cells": [
  {
   "cell_type": "markdown",
   "id": "349e1086",
   "metadata": {},
   "source": [
    "# Курсовая работа #"
   ]
  },
  {
   "cell_type": "markdown",
   "id": "33209b0f",
   "metadata": {},
   "source": [
    "## Часть 1. Метод неопределенных коэффициэнтов"
   ]
  },
  {
   "cell_type": "markdown",
   "id": "8d90136d",
   "metadata": {},
   "source": [
    "Возьмем данные из exel таблицы с помощью библиотеки pandas."
   ]
  },
  {
   "cell_type": "code",
   "execution_count": 58,
   "id": "b6da677c",
   "metadata": {
    "scrolled": true
   },
   "outputs": [
    {
     "name": "stdout",
     "output_type": "stream",
     "text": [
      "[0, 8, 10, 20, 21, 30, 43, 50, 65, 75, 87, 100, 125, 130, 150, 172, 200, 250, 254, 300, 341, 400, 500, 514, 600, 700, 747, 800, 900, 1000, 1100, 1200, 1212]\n",
      "[12.5, 12.66, 12.66, 12.64, 12.64, 12.64, 12.64, 12.64, 12.63, 12.64, 12.66, 12.52, 11.94, 11.77, 10.84, 9.73, 8.9, 7.75, 8.16, 7.03, 6.76, 6.07, 5.21, 5.12, 4.71, 4.38, 4.28, 4.14, 3.89, 3.63, 3.37, 3.11, 3.08]\n"
     ]
    }
   ],
   "source": [
    "import pandas as pd\n",
    "data = pd.read_excel('https://github.com/ivanyarigin/geo23/raw/main/210_1.xlsx', sheet_name = 'Ярыгин')\n",
    "x = data.iloc[:,0].tolist()\n",
    "y = data.iloc[:,1].tolist()\n",
    "print(x)\n",
    "print(y)"
   ]
  },
  {
   "cell_type": "markdown",
   "id": "7084b3b0",
   "metadata": {},
   "source": [
    "Будем искать апроксимирующую функцию в виде y = ax + b"
   ]
  },
  {
   "cell_type": "code",
   "execution_count": 59,
   "id": "9f4b820b",
   "metadata": {},
   "outputs": [
    {
     "name": "stdout",
     "output_type": "stream",
     "text": [
      "12.026731088187299\n",
      "11.95300859915215\n",
      "11.934577976893362\n",
      "11.842424865599426\n",
      "11.833209554470033\n",
      "11.750271754305489\n",
      "11.63047270962337\n",
      "11.565965531717616\n",
      "11.42773586477671\n",
      "11.335582753482774\n",
      "11.224999019930051\n",
      "11.105199975247933\n",
      "10.87481719701309\n",
      "10.828740641366123\n",
      "10.64443441877825\n",
      "10.441697573931588\n",
      "10.183668862308567\n",
      "9.722903305838884\n",
      "9.686042061321308\n",
      "9.262137749369199\n",
      "8.88430999306406\n",
      "8.340606636429833\n",
      "7.419075523490466\n",
      "7.290061167678956\n",
      "6.4975444105511\n",
      "5.576013297611734\n",
      "5.142893674530232\n",
      "4.654482184672368\n",
      "3.7329510717330017\n",
      "2.8114199587936337\n",
      "1.8898888458542675\n",
      "0.9683577329149013\n",
      "0.8577739993621769\n"
     ]
    }
   ],
   "source": [
    "import numpy as np\n",
    "def MNK(x, y):\n",
    "    c1 = np.sum(np.multiply(x, x))\n",
    "    c2 = np.sum(x)\n",
    "    c3 = np.sum(np.multiply(x, y))\n",
    "    d1 = c2\n",
    "    d2 = len(x)\n",
    "    d3 = np.sum(y)\n",
    "    A = np.array([[c1, c2], [d1, d2]])\n",
    "    B = np.array([[c3],[d3]])\n",
    "    E = np.linalg.solve(A, B)\n",
    "    a = E[0,0]\n",
    "    b = E[1,0]\n",
    "    return(a, b)\n",
    "a, b = MNK(x, y)\n",
    "for X in x:\n",
    "    print(a*X+b)"
   ]
  },
  {
   "cell_type": "markdown",
   "id": "4d6c52b4",
   "metadata": {},
   "source": [
    "Строим график полученной функции и отмечаем иходные точки"
   ]
  },
  {
   "cell_type": "code",
   "execution_count": 54,
   "id": "5e545e2f",
   "metadata": {
    "scrolled": true
   },
   "outputs": [
    {
     "data": {
      "image/png": "[encoded data removed]",
      "text/plain": [
       "<Figure size 640x480 with 1 Axes>"
      ]
     },
     "metadata": {},
     "output_type": "display_data"
    }
   ],
   "source": [
    "import matplotlib.pyplot as plt\n",
    "fig = plt.figure()\n",
    "ax = fig.add_subplot(111)\n",
    "ax.set_xlim([-100, 1300])\n",
    "ax.set_ylim([2, 13])\n",
    "c = np.arange(-10, 10.01, 0.01)\n",
    "plt.scatter(x, y)\n",
    "plt.plot(a*c+b)\n",
    "plt.xlabel(r'$x$')\n",
    "plt.ylabel(r'$y$')\n",
    "plt.grid(True)\n",
    "plt.show()"
   ]
  },
  {
   "cell_type": "markdown",
   "id": "0da842ab",
   "metadata": {},
   "source": [
    "## Часть 2. Интерполяционный многочлен Лагранжа"
   ]
  },
  {
   "cell_type": "markdown",
   "id": "0e3e50c1",
   "metadata": {},
   "source": [
    "Также импортируем данные из exel таблицы с помощью библиотеки pandas"
   ]
  },
  {
   "cell_type": "code",
   "execution_count": 56,
   "id": "c442a636",
   "metadata": {
    "scrolled": true
   },
   "outputs": [],
   "source": [
    "import pandas as pd\n",
    "df = pd.read_excel('https://github.com/ivanyarigin/geo23/raw/main/210_1.xlsx', sheet_name = 'Lagrange')\n",
    "df = df.dropna()\n",
    "x = df.iloc[:,0].tolist()\n",
    "y = df.iloc[:,1].tolist()"
   ]
  },
  {
   "cell_type": "markdown",
   "id": "980d1cd1",
   "metadata": {},
   "source": [
    "Напишем функцию, строящую интеполяционный многочлен Лагранжа."
   ]
  },
  {
   "cell_type": "code",
   "execution_count": 57,
   "id": "5826a9b3",
   "metadata": {
    "scrolled": true
   },
   "outputs": [
    {
     "name": "stdout",
     "output_type": "stream",
     "text": [
      "0.0\n",
      "8.0\n",
      "10.0\n",
      "19.0\n",
      "20.0\n",
      "0.0\n",
      "50.0\n",
      "58.0\n",
      "75.0\n",
      "78.0\n",
      "101.0\n",
      "118.0\n",
      "126.0\n",
      "151.0\n",
      "153.0\n",
      "201.0\n",
      "252.0\n",
      "287.0\n",
      "302.0\n",
      "376.0\n",
      "403.0\n",
      "504.0\n",
      "603.0\n",
      "605.0\n",
      "706.0\n",
      "807.0\n",
      "904.0\n",
      "[0, 8, 10, 19, 20, 39, 50, 58, 75, 78, 101, 118, 126, 151, 153, 201, 252, 287, 302, 376, 403, 504, 603, 605, 706, 807, 904]\n"
     ]
    }
   ],
   "source": [
    "def create_basic_polynomial(x, i):\n",
    "    def basic_polynomial(X):\n",
    "        divider = 1\n",
    "        result = 1\n",
    "        for j in range(len(x)):\n",
    "            if j != i:\n",
    "                result *= (X-x[j])\n",
    "                divider *= (x[i]-x[j])\n",
    "            if divider == 0:\n",
    "                divider = 1\n",
    "        return result/divider\n",
    "    return basic_polynomial\n",
    "\n",
    "def create_Lagrange_polynomial(x, y):\n",
    "    basic_polynomials = []\n",
    "    for i in range(len(x)):\n",
    "        basic_polynomials.append(create_basic_polynomial(x, i))\n",
    "\n",
    "    def lagrange_polynomial(X):\n",
    "        result = 0\n",
    "        for i in range(len(y)):\n",
    "            result += y[i]*basic_polynomials[i](X)\n",
    "        return result\n",
    "    return lagrange_polynomial\n",
    "lag_pol = create_Lagrange_polynomial(x, y)\n",
    "for X in x:\n",
    "    print(lag_pol(X))\n",
    "print(y)"
   ]
  },
  {
   "cell_type": "markdown",
   "id": "175b0278",
   "metadata": {},
   "source": [
    "С помощью библиотеки matplotlib.pyplot изобразим полученный полином Лагранжа на графике."
   ]
  },
  {
   "cell_type": "code",
   "execution_count": 43,
   "id": "c4028263",
   "metadata": {},
   "outputs": [
    {
     "data": {
      "image/png": "[encoded data removed]",
      "text/plain": [
       "<Figure size 640x480 with 1 Axes>"
      ]
     },
     "metadata": {},
     "output_type": "display_data"
    }
   ],
   "source": [
    "import numpy as np\n",
    "import matplotlib.pyplot as plt\n",
    "fig = plt.figure()\n",
    "ax = fig.add_subplot(111)\n",
    "ax.set_xlim([90, 250])\n",
    "ax.set_ylim([0, 950])\n",
    "plt.scatter(x, y) \n",
    "c = np.linspace(95.4, 234.1, 195)\n",
    "plt.plot(lag_pol(c))\n",
    "plt.xlabel(r'$x$')\n",
    "plt.ylabel(r'$y$')\n",
    "plt.grid(True)\n",
    "plt.show()"
   ]
  },
  {
   "cell_type": "markdown",
   "id": "eb2c8a16",
   "metadata": {},
   "source": [
    "## Вывод"
   ]
  },
  {
   "cell_type": "markdown",
   "id": "460d6825",
   "metadata": {},
   "source": [
    "У phyton существует большое количество библиотек, которые позволяют решать различные задачи. В этой работе мы использовали библиотеке matplotlib.pyplot, pandas и numpy, чтобы аппроксимировать линейной функцией или полиномом заданое множество точек на графике. "
   ]
  },
  {
   "cell_type": "code",
   "execution_count": null,
   "id": "f2720b69",
   "metadata": {},
   "outputs": [],
   "source": []
  }
 ],
 "metadata": {
  "kernelspec": {
   "display_name": "Python 3 (ipykernel)",
   "language": "python",
   "name": "python3"
  },
  "language_info": {
   "codemirror_mode": {
    "name": "ipython",
    "version": 3
   },
   "file_extension": ".py",
   "mimetype": "text/x-python",
   "name": "python",
   "nbconvert_exporter": "python",
   "pygments_lexer": "ipython3",
   "version": "3.9.13"
  }
 },
 "nbformat": 4,
 "nbformat_minor": 5
}
