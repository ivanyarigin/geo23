{
 "cells": [
  {
   "cell_type": "markdown",
   "id": "349e1086",
   "metadata": {},
   "source": [
    "# Курсовая работа #"
   ]
  },
  {
   "cell_type": "markdown",
   "id": "8d90136d",
   "metadata": {},
   "source": [
    "Для начала возьмем данные из exel таблицы с помощью библиотеки pandas"
   ]
  },
  {
   "cell_type": "code",
   "execution_count": 23,
   "id": "b6da677c",
   "metadata": {},
   "outputs": [
    {
     "name": "stdout",
     "output_type": "stream",
     "text": [
      "[0, 8, 10, 20, 21, 30, 43, 50, 65, 75, 87, 100, 125, 130, 150, 172, 200, 250, 254, 300, 341, 400, 500, 514, 600, 700, 747, 800, 900, 1000, 1100, 1200, 1212] [12.5, 12.66, 12.66, 12.64, 12.64, 12.64, 12.64, 12.64, 12.63, 12.64, 12.66, 12.52, 11.94, 11.77, 10.84, 9.73, 8.9, 7.75, 8.16, 7.03, 6.76, 6.07, 5.21, 5.12, 4.71, 4.38, 4.28, 4.14, 3.89, 3.63, 3.37, 3.11, 3.08] 33 33\n"
     ]
    }
   ],
   "source": [
    "import pandas as pd\n",
    "\n",
    "import pandas as pd\n",
    "data = pd.read_excel('https://github.com/ivanyarigin/geo23/raw/main/210_1.xlsx', sheet_name = 'Ярыгин')\n",
    "x = data.iloc[:,0].tolist()\n",
    "y = data.iloc[:,1].tolist()\n",
    "print(x,y, len(x), len(y))\n",
    "\n"
   ]
  },
  {
   "cell_type": "markdown",
   "id": "7084b3b0",
   "metadata": {},
   "source": [
    "Будем искать апроксимирующую функцию в виде y = ax + b"
   ]
  },
  {
   "cell_type": "code",
   "execution_count": 47,
   "id": "9f4b820b",
   "metadata": {},
   "outputs": [
    {
     "name": "stdout",
     "output_type": "stream",
     "text": [
      "9142728 12104 61318.47 12104 33 285.34\n",
      "[[-9.21531113e-03]\n",
      " [ 1.20267311e+01]]\n"
     ]
    }
   ],
   "source": [
    "import numpy as np\n",
    "c1 = np.sum(np.multiply(x, x))\n",
    "c2 = np.sum(x)\n",
    "c3 = np.sum(np.multiply(x, y))\n",
    "d1 = c2\n",
    "d2 = len(x)\n",
    "d3 = np.sum(y)\n",
    "print(c1, c2, c3,d1, d2, d3)\n",
    "A = np.array([[c1, c2], [d1, d2]])\n",
    "B = np.array([[c3],[d3]])\n",
    "E = np.linalg.solve(A, B)\n",
    "print(E)"
   ]
  },
  {
   "cell_type": "code",
   "execution_count": 52,
   "id": "3fb1e204",
   "metadata": {
    "scrolled": true
   },
   "outputs": [
    {
     "name": "stdout",
     "output_type": "stream",
     "text": [
      "-0.009215311129393663 12.026731088187299\n"
     ]
    }
   ],
   "source": [
    "a = E[0,0]\n",
    "b = E[1,0]\n",
    "print(a, b)"
   ]
  },
  {
   "cell_type": "markdown",
   "id": "4d6c52b4",
   "metadata": {},
   "source": [
    "Строим график полученной функции и отмечаем иходные точки"
   ]
  },
  {
   "cell_type": "code",
   "execution_count": 55,
   "id": "5e545e2f",
   "metadata": {},
   "outputs": [
    {
     "data": {
      "image/png": "[encoded data removed]",
      "text/plain": [
       "<Figure size 640x480 with 1 Axes>"
      ]
     },
     "metadata": {},
     "output_type": "display_data"
    }
   ],
   "source": [
    "import matplotlib.pyplot as plt\n",
    "fig = plt.figure()\n",
    "ax = fig.add_subplot(111)\n",
    "c = np.arange(-10, 10.01, 0.01)\n",
    "plt.scatter(x, y)\n",
    "plt.plot(a*c+b)\n",
    "plt.xlabel(r'$x$')\n",
    "plt.ylabel(r'$f(x)$')\n",
    "plt.grid(True)\n",
    "plt.show()"
   ]
  },
  {
   "cell_type": "code",
   "execution_count": null,
   "id": "c442a636",
   "metadata": {},
   "outputs": [],
   "source": []
  }
 ],
 "metadata": {
  "kernelspec": {
   "display_name": "Python 3 (ipykernel)",
   "language": "python",
   "name": "python3"
  },
  "language_info": {
   "codemirror_mode": {
    "name": "ipython",
    "version": 3
   },
   "file_extension": ".py",
   "mimetype": "text/x-python",
   "name": "python",
   "nbconvert_exporter": "python",
   "pygments_lexer": "ipython3",
   "version": "3.9.13"
  }
 },
 "nbformat": 4,
 "nbformat_minor": 5
}
